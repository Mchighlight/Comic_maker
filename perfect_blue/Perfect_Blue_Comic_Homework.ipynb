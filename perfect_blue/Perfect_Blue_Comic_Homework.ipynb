{
 "cells": [
  {
   "cell_type": "markdown",
   "metadata": {},
   "source": [
    "<div style=\"text-align: left\">Author   : Hung-Chih Huang</div>\n",
    "<div style=\"text-align: left\">Project  : Building a comic book with python</div>\n",
    "<div style=\"text-align: left\">Course   : INFO 6105 Data Sci Eng Methods</div>\n",
    "<div style=\"text-align: left\">Date     : 22/9/2020</div>\n",
    "<div style=\"text-align: left\">BookName : Perfect Blue</div>\n",
    "\n",
    "# Building a comic book with python"
   ]
  },
  {
   "cell_type": "markdown",
   "metadata": {},
   "source": [
    "<left>\n",
    "<img src=\"perfect_blue_cover.jpg\" width=200 />\n",
    "</left>"
   ]
  },
  {
   "cell_type": "markdown",
   "metadata": {},
   "source": [
    "## Import Package"
   ]
  },
  {
   "cell_type": "code",
   "execution_count": 1,
   "metadata": {},
   "outputs": [],
   "source": [
    "import numpy as np\n",
    "import pandas as pd\n",
    "# Image Package\n",
    "from fpdf import FPDF\n",
    "from IPython.display import Image\n",
    "from PIL import Image as pili, ImageDraw as pild, \\\n",
    "ImageFont as pilf, ImageFilter as pifil, ImageOps as piliops\n",
    "# Operate System\n",
    "import os"
   ]
  },
  {
   "cell_type": "markdown",
   "metadata": {},
   "source": [
    "## Get current file directory"
   ]
  },
  {
   "cell_type": "code",
   "execution_count": 2,
   "metadata": {},
   "outputs": [
    {
     "data": {
      "text/plain": [
       "'C:\\\\Users\\\\Mchig\\\\Desktop\\\\Info6105 Data Method\\\\Week2\\\\comic_book_homework\\\\perfect_blue_comic_homework\\\\perfect_blue'"
      ]
     },
     "execution_count": 2,
     "metadata": {},
     "output_type": "execute_result"
    }
   ],
   "source": [
    "import os\n",
    "current_path = os.path.abspath(os.getcwd())\n",
    "current_path"
   ]
  },
  {
   "cell_type": "markdown",
   "metadata": {},
   "source": [
    "# Make sure create the file below\n",
    "    dialog -> store dialog\n",
    "    fonts -> store font\n",
    "    perfect_blue_pic -> store image\n",
    "    perfect_blue_pic_dialog -> store image with dialog\n",
    "    perfect_blue_final -> store pages image"
   ]
  },
  {
   "cell_type": "markdown",
   "metadata": {},
   "source": [
    "## Random Generate Page"
   ]
  },
  {
   "cell_type": "code",
   "execution_count": 3,
   "metadata": {},
   "outputs": [],
   "source": [
    "def random_book_page():\n",
    "    page_num = 1\n",
    "    list_im = [str(x+1) for x in range(79)]\n",
    "    book = [] # Save page\n",
    "    page = []\n",
    "    while 0 < len(list_im):\n",
    "        lines = 0\n",
    "        print(\"new page! page\" + str(page_num))\n",
    "        num_cols = old_num_cols = 0\n",
    "        while lines < 5 and 0 < len(list_im):\n",
    "            lines += 1\n",
    "            while num_cols == old_num_cols:\n",
    "                num_cols = np.random.randint(3, 6)\n",
    "            old_num_cols = num_cols\n",
    "            window = list_im[:num_cols]\n",
    "            page.append( window )\n",
    "            print(window)\n",
    "            list_im = list_im[num_cols:]\n",
    "        book.append(page)\n",
    "        page_num = page_num + 1\n",
    "        page = []\n",
    "    return book"
   ]
  },
  {
   "cell_type": "code",
   "execution_count": 4,
   "metadata": {},
   "outputs": [
    {
     "name": "stdout",
     "output_type": "stream",
     "text": [
      "new page! page1\n",
      "['1', '2', '3']\n",
      "['4', '5', '6', '7']\n",
      "['8', '9', '10', '11', '12']\n",
      "['13', '14', '15']\n",
      "['16', '17', '18', '19', '20']\n",
      "new page! page2\n",
      "['21', '22', '23', '24', '25']\n",
      "['26', '27', '28', '29']\n",
      "['30', '31', '32']\n",
      "['33', '34', '35', '36', '37']\n",
      "['38', '39', '40']\n",
      "new page! page3\n",
      "['41', '42', '43', '44', '45']\n",
      "['46', '47', '48', '49']\n",
      "['50', '51', '52']\n",
      "['53', '54', '55', '56', '57']\n",
      "['58', '59', '60']\n",
      "new page! page4\n",
      "['61', '62', '63']\n",
      "['64', '65', '66', '67']\n",
      "['68', '69', '70']\n",
      "['71', '72', '73', '74']\n",
      "['75', '76', '77']\n",
      "new page! page5\n",
      "['78', '79']\n"
     ]
    }
   ],
   "source": [
    "book = random_book_page()\n",
    "# Best random book format\n",
    "book = [[['1', '2', '3', '4'],\n",
    "  ['5', '6', '7', '8', '9'],\n",
    "  ['10', '11', '12', '13'],\n",
    "  ['14', '15', '16'],\n",
    "  ['17', '18', '19', '20', '21']],\n",
    " [['22', '23', '24', '25', '26'],\n",
    "  ['27', '28', '29'],\n",
    "  ['30', '31', '32', '33'],\n",
    "  ['34', '35', '36', '37', '38'],\n",
    "  ['39', '40', '41']],\n",
    " [['42', '43', '44'],\n",
    "  ['45', '46', '47', '48', '49'],\n",
    "  ['50', '51', '52', '53'],\n",
    "  ['54', '55', '56'],\n",
    "  ['57', '58', '59', '60']],\n",
    " [['61', '62', '63'],\n",
    "  ['64', '65', '66', '67'],\n",
    "  ['68', '69', '70', '71', '72'],\n",
    "  ['73', '74', '75', '76'],\n",
    "  ['77', '78', '79']]]"
   ]
  },
  {
   "cell_type": "markdown",
   "metadata": {},
   "source": [
    "## Define Chinse or English Version"
   ]
  },
  {
   "cell_type": "code",
   "execution_count": 5,
   "metadata": {},
   "outputs": [],
   "source": [
    "version = {\n",
    "    \"English\" : { \"font\" : \"fonts/helvetica.otf\",  \n",
    "                  \"path\" : { \"save_path\" : \"perfect_blue_pic_dialog/English\",\n",
    "                             \"txt_path\"  :  \"dialog/English\",\n",
    "                             \"final_path\":  \"perfect_blue_final/English\"},\n",
    "                  \"font_size\" : 35\n",
    "                },\n",
    "    \"Chinese\" : { \"font\" : \"fonts/HanyiSentyChalk 2018.ttf\",  \n",
    "                  \"path\" : { \"save_path\" : \"perfect_blue_pic_dialog/Chinese\",\n",
    "                             \"txt_path\"  :  \"dialog/Chinese\",\n",
    "                              \"final_path\":  \"perfect_blue_final/Chinese\"},\n",
    "                  \"font_size\" : 35 \n",
    "                },\n",
    "    \"img_path\" : \"perfect_blue_pic\",\n",
    "    \"total_image_len\" : len(os.listdir(os.path.join(current_path, \"perfect_blue_pic\")))\n",
    "}\n",
    "\n"
   ]
  },
  {
   "cell_type": "markdown",
   "metadata": {},
   "source": [
    "# Text overlays"
   ]
  },
  {
   "cell_type": "code",
   "execution_count": 6,
   "metadata": {},
   "outputs": [],
   "source": [
    "## Built a Text overlays for both Chinese and English\n",
    "def add_subtitle( img_number, language ) :\n",
    "    # Read Text File as caption\n",
    "    txt_file_name = \"dialog{img_number}.txt\".format(img_number = img_number )\n",
    "    dialog_file_name = os.path.join(current_path, version[language].get(\"path\")[\"txt_path\"], txt_file_name )\n",
    "    file = open(dialog_file_name, \"r\", encoding='utf-8')\n",
    "    caption = file.read()\n",
    "\n",
    "    # Load Image Path\n",
    "    img_file_name = \"{img_number}.jpg\".format(img_number = img_number ) # Define input format is png   \n",
    "    img_path = os.path.join(current_path, version[\"img_path\"], img_file_name )\n",
    "\n",
    "    # Load Image Convert to RGBA\n",
    "    try:\n",
    "        img = pili.open( img_path ).convert('RGBA')\n",
    "    except:\n",
    "        img_path = img_path.replace(\"jpg\", \"png\") # change path name to png\n",
    "        img = pili.open( img_path ).convert('RGBA')\n",
    "\n",
    "    # Set Font\n",
    "    TINT_COLOR = (0, 0, 0)  # Black\n",
    "    TRANSPARENCY = .1  # Degree of transparency, 0-100%\n",
    "    OPACITY = int(255 * TRANSPARENCY)\n",
    "\n",
    "    overlay = pili.new('RGBA', img.size, TINT_COLOR+(0,))\n",
    "    draw = pild.Draw(overlay)\n",
    "    font = pilf.truetype(version[language].get(\"font\"), version[language].get(\"font_size\"))\n",
    "    text = caption\n",
    "    w, h = font.getsize(text)\n",
    "    num_lines = len(text.split('\\n'))\n",
    "    # print(num_lines, w, h)\n",
    "    x, y = 50, img.height - (num_lines-0.1*num_lines)*h \n",
    "    # Draw rectangle and add text\n",
    "    draw.rectangle((x, y-20, x + img.width - 200, y + (num_lines-0.1*num_lines)*h), fill=TINT_COLOR+(OPACITY,))\n",
    "    draw.text((x, y-20), text, fill=(248, 227, 35), font=font)\n",
    "\n",
    "    # Alpha composite these two images together to obtain the desired result.\n",
    "    img = pili.alpha_composite(img, overlay)\n",
    "    img = img.convert(\"RGB\") # Remove alpha for saving in jpg format.\n",
    "\n",
    "\n",
    "    # Save Image\n",
    "    save_path = version[language].get(\"path\")[\"save_path\"]\n",
    "    save_file_name = \"img_{img_number}.jpg\".format(img_number = img_number )\n",
    "    save_path_file_name = os.path.join(current_path, save_path,  save_file_name)\n",
    "    img.save( save_path_file_name )\n",
    "    # Adding border \n",
    "    piliops.expand(pili.open(save_path_file_name), border=(30,30),fill='white').save(save_path_file_name)"
   ]
  },
  {
   "cell_type": "markdown",
   "metadata": {},
   "source": [
    "# Generate Subtitle"
   ]
  },
  {
   "cell_type": "code",
   "execution_count": 7,
   "metadata": {},
   "outputs": [],
   "source": [
    "def add_subtitle_version( language ):\n",
    "    total_image_len = version[\"total_image_len\"]\n",
    "    for i in range( total_image_len ) :\n",
    "        try :\n",
    "            add_subtitle( str( i + 1 ), language )\n",
    "            print( \"Generating Image \" + str( i + 1 ) + \" Successfully\" )\n",
    "        except :\n",
    "            print( \"Build Fail Image\"  + str( i + 1 ) )\n",
    "    print(\" Successfully Generating \" + language + \" version\")"
   ]
  },
  {
   "cell_type": "markdown",
   "metadata": {},
   "source": [
    " # Add English subtitle"
   ]
  },
  {
   "cell_type": "code",
   "execution_count": 8,
   "metadata": {
    "scrolled": true
   },
   "outputs": [
    {
     "name": "stdout",
     "output_type": "stream",
     "text": [
      "Generating Image 1 Successfully\n",
      "Generating Image 2 Successfully\n",
      "Generating Image 3 Successfully\n",
      "Generating Image 4 Successfully\n",
      "Generating Image 5 Successfully\n",
      "Generating Image 6 Successfully\n",
      "Generating Image 7 Successfully\n",
      "Generating Image 8 Successfully\n",
      "Generating Image 9 Successfully\n",
      "Generating Image 10 Successfully\n",
      "Generating Image 11 Successfully\n",
      "Generating Image 12 Successfully\n",
      "Generating Image 13 Successfully\n",
      "Generating Image 14 Successfully\n",
      "Generating Image 15 Successfully\n",
      "Generating Image 16 Successfully\n",
      "Generating Image 17 Successfully\n",
      "Generating Image 18 Successfully\n",
      "Generating Image 19 Successfully\n",
      "Generating Image 20 Successfully\n",
      "Generating Image 21 Successfully\n",
      "Generating Image 22 Successfully\n",
      "Generating Image 23 Successfully\n",
      "Generating Image 24 Successfully\n",
      "Generating Image 25 Successfully\n",
      "Generating Image 26 Successfully\n",
      "Generating Image 27 Successfully\n",
      "Generating Image 28 Successfully\n",
      "Generating Image 29 Successfully\n",
      "Generating Image 30 Successfully\n",
      "Generating Image 31 Successfully\n",
      "Generating Image 32 Successfully\n",
      "Generating Image 33 Successfully\n",
      "Generating Image 34 Successfully\n",
      "Generating Image 35 Successfully\n",
      "Generating Image 36 Successfully\n",
      "Generating Image 37 Successfully\n",
      "Generating Image 38 Successfully\n",
      "Generating Image 39 Successfully\n",
      "Generating Image 40 Successfully\n",
      "Generating Image 41 Successfully\n",
      "Generating Image 42 Successfully\n",
      "Generating Image 43 Successfully\n",
      "Generating Image 44 Successfully\n",
      "Generating Image 45 Successfully\n",
      "Generating Image 46 Successfully\n",
      "Generating Image 47 Successfully\n",
      "Generating Image 48 Successfully\n",
      "Generating Image 49 Successfully\n",
      "Generating Image 50 Successfully\n",
      "Generating Image 51 Successfully\n",
      "Generating Image 52 Successfully\n",
      "Generating Image 53 Successfully\n",
      "Generating Image 54 Successfully\n",
      "Generating Image 55 Successfully\n",
      "Generating Image 56 Successfully\n",
      "Generating Image 57 Successfully\n",
      "Generating Image 58 Successfully\n",
      "Generating Image 59 Successfully\n",
      "Generating Image 60 Successfully\n",
      "Generating Image 61 Successfully\n",
      "Generating Image 62 Successfully\n",
      "Generating Image 63 Successfully\n",
      "Generating Image 64 Successfully\n",
      "Generating Image 65 Successfully\n",
      "Generating Image 66 Successfully\n",
      "Generating Image 67 Successfully\n",
      "Generating Image 68 Successfully\n",
      "Generating Image 69 Successfully\n",
      "Generating Image 70 Successfully\n",
      "Generating Image 71 Successfully\n",
      "Generating Image 72 Successfully\n",
      "Generating Image 73 Successfully\n",
      "Generating Image 74 Successfully\n",
      "Generating Image 75 Successfully\n",
      "Generating Image 76 Successfully\n",
      "Generating Image 77 Successfully\n",
      "Generating Image 78 Successfully\n",
      "Generating Image 79 Successfully\n",
      " Successfully Generating English version\n"
     ]
    }
   ],
   "source": [
    "add_subtitle_version( \"English\" )"
   ]
  },
  {
   "cell_type": "markdown",
   "metadata": {},
   "source": [
    " # Add Chinese subtitle"
   ]
  },
  {
   "cell_type": "code",
   "execution_count": 9,
   "metadata": {},
   "outputs": [
    {
     "name": "stdout",
     "output_type": "stream",
     "text": [
      "Generating Image 1 Successfully\n",
      "Generating Image 2 Successfully\n",
      "Generating Image 3 Successfully\n",
      "Generating Image 4 Successfully\n",
      "Generating Image 5 Successfully\n",
      "Generating Image 6 Successfully\n",
      "Generating Image 7 Successfully\n",
      "Generating Image 8 Successfully\n",
      "Generating Image 9 Successfully\n",
      "Generating Image 10 Successfully\n",
      "Generating Image 11 Successfully\n",
      "Generating Image 12 Successfully\n",
      "Generating Image 13 Successfully\n",
      "Generating Image 14 Successfully\n",
      "Generating Image 15 Successfully\n",
      "Generating Image 16 Successfully\n",
      "Generating Image 17 Successfully\n",
      "Generating Image 18 Successfully\n",
      "Generating Image 19 Successfully\n",
      "Generating Image 20 Successfully\n",
      "Generating Image 21 Successfully\n",
      "Generating Image 22 Successfully\n",
      "Generating Image 23 Successfully\n",
      "Generating Image 24 Successfully\n",
      "Generating Image 25 Successfully\n",
      "Generating Image 26 Successfully\n",
      "Generating Image 27 Successfully\n",
      "Generating Image 28 Successfully\n",
      "Generating Image 29 Successfully\n",
      "Generating Image 30 Successfully\n",
      "Generating Image 31 Successfully\n",
      "Generating Image 32 Successfully\n",
      "Generating Image 33 Successfully\n",
      "Generating Image 34 Successfully\n",
      "Generating Image 35 Successfully\n",
      "Generating Image 36 Successfully\n",
      "Generating Image 37 Successfully\n",
      "Generating Image 38 Successfully\n",
      "Generating Image 39 Successfully\n",
      "Generating Image 40 Successfully\n",
      "Generating Image 41 Successfully\n",
      "Generating Image 42 Successfully\n",
      "Generating Image 43 Successfully\n",
      "Generating Image 44 Successfully\n",
      "Generating Image 45 Successfully\n",
      "Generating Image 46 Successfully\n",
      "Generating Image 47 Successfully\n",
      "Generating Image 48 Successfully\n",
      "Generating Image 49 Successfully\n",
      "Generating Image 50 Successfully\n",
      "Generating Image 51 Successfully\n",
      "Generating Image 52 Successfully\n",
      "Generating Image 53 Successfully\n",
      "Generating Image 54 Successfully\n",
      "Generating Image 55 Successfully\n",
      "Generating Image 56 Successfully\n",
      "Generating Image 57 Successfully\n",
      "Generating Image 58 Successfully\n",
      "Generating Image 59 Successfully\n",
      "Generating Image 60 Successfully\n",
      "Generating Image 61 Successfully\n",
      "Generating Image 62 Successfully\n",
      "Generating Image 63 Successfully\n",
      "Generating Image 64 Successfully\n",
      "Generating Image 65 Successfully\n",
      "Generating Image 66 Successfully\n",
      "Generating Image 67 Successfully\n",
      "Generating Image 68 Successfully\n",
      "Generating Image 69 Successfully\n",
      "Generating Image 70 Successfully\n",
      "Generating Image 71 Successfully\n",
      "Generating Image 72 Successfully\n",
      "Generating Image 73 Successfully\n",
      "Generating Image 74 Successfully\n",
      "Generating Image 75 Successfully\n",
      "Generating Image 76 Successfully\n",
      "Generating Image 77 Successfully\n",
      "Generating Image 78 Successfully\n",
      "Generating Image 79 Successfully\n",
      " Successfully Generating Chinese version\n"
     ]
    }
   ],
   "source": [
    "add_subtitle_version( \"Chinese\" )"
   ]
  },
  {
   "cell_type": "markdown",
   "metadata": {},
   "source": [
    "# Comebine Image as Page"
   ]
  },
  {
   "cell_type": "code",
   "execution_count": 10,
   "metadata": {},
   "outputs": [],
   "source": [
    "def image_combine_horizontal(language, img_list, line) :\n",
    "    save_path = version[language].get(\"path\")[\"save_path\"]\n",
    "    list_im =[ os.path.join(current_path, save_path,  \"img_{img_number}.jpg\".format(img_number = i )) for i in img_list  ]\n",
    "\n",
    "    imgs    = [ pili.open(i) for i in list_im ]\n",
    "\n",
    "    min_shape = sorted( [(np.sum(i.size), i.size ) for i in imgs])[0][1]\n",
    "    imgs_comb = np.hstack( (np.asarray( i.resize(min_shape) ) for i in imgs ) )\n",
    "\n",
    "    min_shape = sorted( [(np.sum(i.size), i.size ) for i in imgs])[0][1]\n",
    "    imgs_comb = np.hstack( (np.asarray( i.resize(min_shape) ) for i in imgs ) )\n",
    "\n",
    "    imgs_comb_name = \"img{imgF}_{imgL}_Line{line}.jpg\".format(imgF = img_list[0], imgL = img_list[-1], line = line )\n",
    "    final_path = os.path.join( current_path, version[language].get(\"path\")[\"final_path\"], imgs_comb_name )\n",
    "    imgs_comb = pili.fromarray( imgs_comb)\n",
    "    imgs_comb.save( final_path )\n",
    "    return final_path\n",
    "\n"
   ]
  },
  {
   "cell_type": "code",
   "execution_count": 45,
   "metadata": {},
   "outputs": [],
   "source": [
    "from random import randint\n",
    "from random import seed\n",
    "def image_combine_vertical( img_path0, img_path1, final_path):\n",
    "    seed(1)\n",
    "    col0 = pili.open( img_path0 )\n",
    "    col1 = pili.open( img_path1 )\n",
    "    reshape0 = np.asarray(col0.resize( ( 4600, col0.size[1] + randint(500, 1000)) ))\n",
    "    reshape1 = np.asarray(col1.resize( ( 4600, col1.size[1] + randint(500, 1000) ) ))\n",
    "    # print( col0.size[1] )\n",
    "    img = np.vstack( ( reshape0, reshape1  ) )\n",
    "    imgs_comb = pili.fromarray( img)\n",
    "    imgs_comb.save( final_path )\n"
   ]
  },
  {
   "cell_type": "code",
   "execution_count": 24,
   "metadata": {},
   "outputs": [],
   "source": [
    "def generate_page( language ):\n",
    "    for page in range(len(book)):\n",
    "        imgs_comb_name = \"Page{page}.jpg\".format(page =page + 1 )\n",
    "        final_path = os.path.join( current_path, version[language].get(\"path\")[\"final_path\"], imgs_comb_name )\n",
    "        # print( \"New Page \" +  imgs_comb_name)\n",
    "        for line in range(len(book[page])):\n",
    "            img = image_combine_horizontal( language, book[page][line], str(line) )\n",
    "            if line == 0 : # First Line\n",
    "                first_line = pili.open( img )\n",
    "                first_line.save( final_path )\n",
    "            else:\n",
    "                image_combine_vertical( final_path, img, final_path )\n",
    "            # print(line)   \n",
    "    print(\"Generate Book \" + language + \" version successfully\")\n"
   ]
  },
  {
   "cell_type": "markdown",
   "metadata": {},
   "source": [
    "## Generate English Version comic book"
   ]
  },
  {
   "cell_type": "code",
   "execution_count": 53,
   "metadata": {},
   "outputs": [
    {
     "name": "stderr",
     "output_type": "stream",
     "text": [
      "C:\\Users\\Mchig\\Desktop\\Info6105 Data Method\\venv\\lib\\site-packages\\ipykernel_launcher.py:8: FutureWarning: arrays to stack must be passed as a \"sequence\" type such as list or tuple. Support for non-sequence iterables such as generators is deprecated as of NumPy 1.16 and will raise an error in the future.\n",
      "  \n",
      "C:\\Users\\Mchig\\Desktop\\Info6105 Data Method\\venv\\lib\\site-packages\\ipykernel_launcher.py:11: FutureWarning: arrays to stack must be passed as a \"sequence\" type such as list or tuple. Support for non-sequence iterables such as generators is deprecated as of NumPy 1.16 and will raise an error in the future.\n",
      "  # This is added back by InteractiveShellApp.init_path()\n"
     ]
    },
    {
     "name": "stdout",
     "output_type": "stream",
     "text": [
      "Generate Book English version successfully\n"
     ]
    }
   ],
   "source": [
    "generate_page(\"English\")"
   ]
  },
  {
   "cell_type": "markdown",
   "metadata": {},
   "source": [
    "## Generate Chinese Version comic book"
   ]
  },
  {
   "cell_type": "code",
   "execution_count": 54,
   "metadata": {},
   "outputs": [
    {
     "name": "stderr",
     "output_type": "stream",
     "text": [
      "C:\\Users\\Mchig\\Desktop\\Info6105 Data Method\\venv\\lib\\site-packages\\ipykernel_launcher.py:8: FutureWarning: arrays to stack must be passed as a \"sequence\" type such as list or tuple. Support for non-sequence iterables such as generators is deprecated as of NumPy 1.16 and will raise an error in the future.\n",
      "  \n",
      "C:\\Users\\Mchig\\Desktop\\Info6105 Data Method\\venv\\lib\\site-packages\\ipykernel_launcher.py:11: FutureWarning: arrays to stack must be passed as a \"sequence\" type such as list or tuple. Support for non-sequence iterables such as generators is deprecated as of NumPy 1.16 and will raise an error in the future.\n",
      "  # This is added back by InteractiveShellApp.init_path()\n"
     ]
    },
    {
     "name": "stdout",
     "output_type": "stream",
     "text": [
      "Generate Book Chinese version successfully\n"
     ]
    }
   ],
   "source": [
    "generate_page(\"Chinese\")"
   ]
  },
  {
   "cell_type": "markdown",
   "metadata": {},
   "source": [
    "## Add Page Num"
   ]
  },
  {
   "cell_type": "code",
   "execution_count": 33,
   "metadata": {},
   "outputs": [],
   "source": [
    "def add_page_num( language,img_path, page_num ) :\n",
    "    caption = page_num\n",
    "    img = pili.open( img_path ).convert('RGBA')\n",
    "\n",
    "    # Set Font\n",
    "    TINT_COLOR = (0, 0, 0)  # Black\n",
    "    TRANSPARENCY = 0  # Degree of transparency, 0-100%\n",
    "    OPACITY = int(255 * TRANSPARENCY)\n",
    "\n",
    "    overlay = pili.new('RGBA', img.size, TINT_COLOR+(0,))\n",
    "    draw = pild.Draw(overlay)\n",
    "    font = pilf.truetype(version[language].get(\"font\"), 100)\n",
    "    text = caption\n",
    "    w, h = font.getsize(text)\n",
    "    num_lines = len(text.split('\\n'))\n",
    "    # print(num_lines, w, h)\n",
    "    x, y = 2300, img.height - (num_lines-0.1*num_lines)*h + 20 \n",
    "    # Draw rectangle and add text\n",
    "    draw.rectangle((x, y-20, x + img.width - 200, y + (num_lines-0.1*num_lines)*h), fill=TINT_COLOR+(OPACITY,))\n",
    "    draw.text((x, y-20), text, fill=(0, 0, 0), font=font)\n",
    "\n",
    "    # Alpha composite these two images together to obtain the desired result.\n",
    "    img = pili.alpha_composite(img, overlay)\n",
    "    img = img.convert(\"RGB\") # Remove alpha for saving in jpg format.\n",
    "\n",
    "\n",
    "    # Save Image\n",
    "    img.save( img_path )"
   ]
  },
  {
   "cell_type": "markdown",
   "metadata": {},
   "source": [
    "## From images to pdfs"
   ]
  },
  {
   "cell_type": "code",
   "execution_count": 34,
   "metadata": {},
   "outputs": [],
   "source": [
    "def convert_to_pdf( language ):\n",
    "    cover = pili.open('perfect_blue_cover.jpg')\n",
    "    width = 4700\n",
    "    height = 3607\n",
    "    pdf = FPDF(unit = \"pt\", format = [width, height])\n",
    "    pdf.add_page()\n",
    "    pdf.image('perfect_blue_cover.jpg', 0, 0, width, height)\n",
    "    page_path = version[language].get(\"path\")[\"final_path\"]\n",
    "    all_file = os.listdir(os.path.join(current_path, page_path))\n",
    "    imagelist = [ os.path.join(current_path, page_path, i) for i in all_file if \"Page\" in i]\n",
    "\n",
    "    count = 1\n",
    "    for image in imagelist:\n",
    "        pdf.add_page()\n",
    "        piliops.expand(pili.open(image), border=(50,50),fill='white').save(image)\n",
    "        add_page_num( language,image, \"Page: \" + str( count )  )\n",
    "        print(pili.open(image).size)\n",
    "        pdf.image(image, 0, 0, width, height)\n",
    "        count = count + 1\n",
    "\n",
    "        \n",
    "    # Add End Poster\n",
    "    pdf.add_page()\n",
    "    pdf.image(\"ending.jpg\", 0, 0, width, height)\n",
    "    final_path = os.path.join( current_path, language + \"_version.pdf\" )\n",
    "    pdf.output(final_path, \"F\")\n",
    "    print( language + \" version convert to PDF \" + \"done!\")"
   ]
  },
  {
   "cell_type": "code",
   "execution_count": 55,
   "metadata": {},
   "outputs": [
    {
     "name": "stdout",
     "output_type": "stream",
     "text": [
      "(4700, 9043)\n",
      "(4700, 9197)\n",
      "(4700, 9159)\n",
      "(4700, 9586)\n",
      "English version convert to PDF done!\n"
     ]
    }
   ],
   "source": [
    "convert_to_pdf(\"English\")"
   ]
  },
  {
   "cell_type": "code",
   "execution_count": 56,
   "metadata": {},
   "outputs": [
    {
     "name": "stdout",
     "output_type": "stream",
     "text": [
      "(4700, 9043)\n",
      "(4700, 9197)\n",
      "(4700, 9159)\n",
      "(4700, 9586)\n",
      "Chinese version convert to PDF done!\n"
     ]
    }
   ],
   "source": [
    "convert_to_pdf(\"Chinese\")"
   ]
  },
  {
   "cell_type": "markdown",
   "metadata": {},
   "source": [
    "<div class=\"alert alert-block alert-info\">\n",
    "    <b>Copyright</b> 2020 Hung-Chih Huang<br>\n",
    "    <br>Permission is hereby granted, free of charge, to any person obtaining a copy of this software and associated documentation files (the \"Software\"), to deal in the Software without restriction, including without limitation the rights to use, copy, modify, merge, publish, distribute, sublicense, and/or sell copies of the Software, and to permit persons to whom the Software is furnished to do so, subject to the following conditions:<br>\n",
    "    <br>The above copyright notice and this permission notice shall be included in all copies or substantial portions of the Software.<br>\n",
    "    <br>THE SOFTWARE IS PROVIDED \"AS IS\", WITHOUT WARRANTY OF ANY KIND, EXPRESS OR IMPLIED, INCLUDING BUT NOT LIMITED TO THE WARRANTIES OF MERCHANTABILITY, FITNESS FOR A PARTICULAR PURPOSE AND NONINFRINGEMENT. IN NO EVENT SHALL THE AUTHORS OR COPYRIGHT HOLDERS BE LIABLE FOR ANY CLAIM, DAMAGES OR OTHER LIABILITY, WHETHER IN AN ACTION OF CONTRACT, TORT OR OTHERWISE, ARISING FROM, OUT OF OR IN CONNECTION WITH THE SOFTWARE OR THE USE OR OTHER DEALINGS IN THE SOFTWARE.\n",
    "    <br><br>\n",
    "    \n",
    "<div class=\"text-center\">\n",
    "    <a rel=\"license\" href=\"http://creativecommons.org/licenses/by/3.0/us/\"><img alt=\"Creative Commons License\" style=\"border-width:0\" src=\"https://i.creativecommons.org/l/by/3.0/us/88x31.png\" /></a><br />This work is licensed under a <a rel=\"license\" href=\"http://creativecommons.org/licenses/by/3.0/us/\">Creative Commons Attribution 3.0 United States License</a>.<br>\n",
    "</div></div>"
   ]
  },
  {
   "cell_type": "code",
   "execution_count": null,
   "metadata": {},
   "outputs": [],
   "source": []
  }
 ],
 "metadata": {
  "kernelspec": {
   "display_name": "Info6105",
   "language": "python",
   "name": "info6105"
  },
  "language_info": {
   "codemirror_mode": {
    "name": "ipython",
    "version": 3
   },
   "file_extension": ".py",
   "mimetype": "text/x-python",
   "name": "python",
   "nbconvert_exporter": "python",
   "pygments_lexer": "ipython3",
   "version": "3.7.2"
  }
 },
 "nbformat": 4,
 "nbformat_minor": 2
}
